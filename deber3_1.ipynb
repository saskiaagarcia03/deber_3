{
 "cells": [
  {
   "cell_type": "markdown",
   "metadata": {},
   "source": [
    "# TRABAJO CLASE 3 (OPCIÓN 1)\n",
    "## Pasos:\n",
    "1. Creamos el archivo deber3_1.ipynb\n",
    "2. Añadimos Dev Container al proyecto\n",
    "3. Instalamos el entorno de conda, utilizando el archivo requirements.txt\n",
    "3.1. Creamos el archivo requirements.txt\n",
    "3.2. Validamos la versión de conda con el comando: conda --version\n",
    "3.3. Ejecutamos en el bash los comandos:  \n",
    "\n",
    "echo \"numpy==1.21.0\" > requirements.txt\n",
    "echo \"pandas>=1.3.0\" >> requirements.txt\n",
    "echo \"requests\" >> requirements.txt\n",
    "\n",
    "\n",
    "Con esto lo que hicimos fue añadir estas librerías en el archivo requirements.txt (Donde deberían estar todas las librerías utilizadas para ejecutar los códigos enviados)\n",
    "\n",
    "4. Creamos el entorno con la versión de python: conda create --name entorno_conda python=3.9\n",
    "5. Activamos conda con el comando: conda activate entorno_conda\n",
    "6. Instalamos las librerías que se añadieron en el archivo requirements.txt con el comando: conda install --file requirements.txt\n",
    "7. ERROR como tuvimos un error al ejecutar el comando anterior, por dependencias, ejecutamos el comando: pip install -r requirements.txt\n",
    "8. Finalmente verificamos las librerías instaladas con el comando: conda list\n"
   ]
  },
  {
   "cell_type": "markdown",
   "metadata": {},
   "source": []
  },
  {
   "cell_type": "code",
   "execution_count": 1,
   "metadata": {},
   "outputs": [
    {
     "ename": "ModuleNotFoundError",
     "evalue": "No module named 'matplotlib'",
     "output_type": "error",
     "traceback": [
      "\u001b[0;31m---------------------------------------------------------------------------\u001b[0m",
      "\u001b[0;31mModuleNotFoundError\u001b[0m                       Traceback (most recent call last)",
      "Cell \u001b[0;32mIn[1], line 3\u001b[0m\n\u001b[1;32m      1\u001b[0m \u001b[38;5;28;01mimport\u001b[39;00m\u001b[38;5;250m \u001b[39m\u001b[38;5;21;01mpandas\u001b[39;00m\u001b[38;5;250m \u001b[39m\u001b[38;5;28;01mas\u001b[39;00m\u001b[38;5;250m \u001b[39m\u001b[38;5;21;01mpd\u001b[39;00m\n\u001b[1;32m      2\u001b[0m \u001b[38;5;28;01mimport\u001b[39;00m\u001b[38;5;250m \u001b[39m\u001b[38;5;21;01mnumpy\u001b[39;00m\u001b[38;5;250m \u001b[39m\u001b[38;5;28;01mas\u001b[39;00m\u001b[38;5;250m \u001b[39m\u001b[38;5;21;01mnp\u001b[39;00m\n\u001b[0;32m----> 3\u001b[0m \u001b[38;5;28;01mimport\u001b[39;00m\u001b[38;5;250m \u001b[39m\u001b[38;5;21;01mmatplotlib\u001b[39;00m\u001b[38;5;21;01m.\u001b[39;00m\u001b[38;5;21;01mpyplot\u001b[39;00m\u001b[38;5;250m \u001b[39m\u001b[38;5;28;01mas\u001b[39;00m\u001b[38;5;250m \u001b[39m\u001b[38;5;21;01mplt\u001b[39;00m\n\u001b[1;32m      5\u001b[0m \u001b[38;5;66;03m# Creamos un dataset simulando un registro de conexiones de red\u001b[39;00m\n\u001b[1;32m      6\u001b[0m data \u001b[38;5;241m=\u001b[39m {\n\u001b[1;32m      7\u001b[0m     \u001b[38;5;124m'\u001b[39m\u001b[38;5;124mtimestamp\u001b[39m\u001b[38;5;124m'\u001b[39m: pd\u001b[38;5;241m.\u001b[39mdate_range(start\u001b[38;5;241m=\u001b[39m\u001b[38;5;124m'\u001b[39m\u001b[38;5;124m2023-01-01\u001b[39m\u001b[38;5;124m'\u001b[39m, periods\u001b[38;5;241m=\u001b[39m\u001b[38;5;241m10\u001b[39m, freq\u001b[38;5;241m=\u001b[39m\u001b[38;5;124m'\u001b[39m\u001b[38;5;124mH\u001b[39m\u001b[38;5;124m'\u001b[39m),\n\u001b[1;32m      8\u001b[0m     \u001b[38;5;124m'\u001b[39m\u001b[38;5;124mip_origen\u001b[39m\u001b[38;5;124m'\u001b[39m: [\u001b[38;5;124m'\u001b[39m\u001b[38;5;124m192.168.1.\u001b[39m\u001b[38;5;124m'\u001b[39m \u001b[38;5;241m+\u001b[39m \u001b[38;5;28mstr\u001b[39m(i) \u001b[38;5;28;01mfor\u001b[39;00m i \u001b[38;5;129;01min\u001b[39;00m \u001b[38;5;28mrange\u001b[39m(\u001b[38;5;241m1\u001b[39m, \u001b[38;5;241m11\u001b[39m)],\n\u001b[0;32m   (...)\u001b[0m\n\u001b[1;32m     13\u001b[0m     \u001b[38;5;124m'\u001b[39m\u001b[38;5;124mexito_conexion\u001b[39m\u001b[38;5;124m'\u001b[39m: [\u001b[38;5;28;01mTrue\u001b[39;00m, \u001b[38;5;28;01mTrue\u001b[39;00m, \u001b[38;5;28;01mFalse\u001b[39;00m, \u001b[38;5;28;01mTrue\u001b[39;00m, \u001b[38;5;28;01mTrue\u001b[39;00m, \u001b[38;5;28;01mTrue\u001b[39;00m, \u001b[38;5;28;01mFalse\u001b[39;00m, \u001b[38;5;28;01mFalse\u001b[39;00m, \u001b[38;5;28;01mTrue\u001b[39;00m, \u001b[38;5;28;01mTrue\u001b[39;00m]\n\u001b[1;32m     14\u001b[0m }\n",
      "\u001b[0;31mModuleNotFoundError\u001b[0m: No module named 'matplotlib'"
     ]
    }
   ],
   "source": [
    "import pandas as pd\n",
    "import numpy as np\n",
    "import matplotlib.pyplot as plt\n",
    "\n",
    "# Creamos un dataset simulando un registro de conexiones de red\n",
    "data = {\n",
    "    'timestamp': pd.date_range(start='2023-01-01', periods=10, freq='H'),\n",
    "    'ip_origen': ['192.168.1.' + str(i) for i in range(1, 11)],\n",
    "    'ip_destino': ['10.0.0.' + str(i % 3 + 1) for i in range(10)],\n",
    "    'puerto': [80, 443, 22, 3389, 8080, 80, 443, 22, 8080, 3389],\n",
    "    'protocolo': ['HTTP', 'HTTPS', 'SSH', 'RDP', 'HTTP', 'HTTP', 'HTTPS', 'SSH', 'HTTP', 'RDP'],\n",
    "    'bytes_enviados': np.random.randint(100, 10000, 10),\n",
    "    'exito_conexion': [True, True, False, True, True, True, False, False, True, True]\n",
    "}\n",
    "\n",
    "# Creamos el DataFrame\n",
    "df = pd.DataFrame(data)\n",
    "\n",
    "print(\"1. Explorando el DataFrame:\")\n",
    "print(df.head())\n",
    "print(\"\\nInformación del DataFrame:\")\n",
    "print(df.info())\n",
    "print(\"\\nEstadísticas descriptivas:\")\n",
    "print(df.describe())\n",
    "\n"
   ]
  },
  {
   "cell_type": "markdown",
   "metadata": {},
   "source": [
    "Dado que nos da ERROR\n",
    "---------------------------------------------------------------------------\n",
    "ModuleNotFoundError                       Traceback (most recent call last)\n",
    "Cell In[1], <a href='vscode-notebook-cell:?execution_count=1&line=3'>line 3</a>\n",
    "      <a href='vscode-notebook-cell:?execution_count=1&line=1'>1</a> import pandas as pd\n",
    "      <a href='vscode-notebook-cell:?execution_count=1&line=2'>2</a> import numpy as np\n",
    "----> <a href='vscode-notebook-cell:?execution_count=1&line=3'>3</a> import matplotlib.pyplot as plt\n",
    "      <a href='vscode-notebook-cell:?execution_count=1&line=5'>5</a> # Creamos un dataset simulando un registro de conexiones de red\n",
    "      <a href='vscode-notebook-cell:?execution_count=1&line=6'>6</a> data = {\n",
    "      <a href='vscode-notebook-cell:?execution_count=1&line=7'>7</a>     'timestamp': pd.date_range(start='2023-01-01', periods=10, freq='H'),\n",
    "      <a href='vscode-notebook-cell:?execution_count=1&line=8'>8</a>     'ip_origen': ['192.168.1.' + str(i) for i in range(1, 11)],\n",
    "   (...)\n",
    "     <a href='vscode-notebook-cell:?execution_count=1&line=13'>13</a>     'exito_conexion': [True, True, False, True, True, True, False, False, True, True]\n",
    "     <a href='vscode-notebook-cell:?execution_count=1&line=14'>14</a> }\n",
    "\n",
    "ModuleNotFoundError: No module named 'matplotlib'\n",
    "\n",
    "\n",
    "\n",
    " Y esto es por la librería matplotlib NO INSTALADA, se añade dicha lubrería con el comando: echo \"matplotlib\" > requirements.txt y luego el comando: conda install --file requirements.txt"
   ]
  },
  {
   "cell_type": "code",
   "execution_count": 3,
   "metadata": {},
   "outputs": [
    {
     "ename": "ImportError",
     "evalue": "Matplotlib requires numpy>=1.23; you have 1.21.0",
     "output_type": "error",
     "traceback": [
      "\u001b[0;31m---------------------------------------------------------------------------\u001b[0m",
      "\u001b[0;31mImportError\u001b[0m                               Traceback (most recent call last)",
      "Cell \u001b[0;32mIn[3], line 3\u001b[0m\n\u001b[1;32m      1\u001b[0m \u001b[38;5;28;01mimport\u001b[39;00m\u001b[38;5;250m \u001b[39m\u001b[38;5;21;01mpandas\u001b[39;00m\u001b[38;5;250m \u001b[39m\u001b[38;5;28;01mas\u001b[39;00m\u001b[38;5;250m \u001b[39m\u001b[38;5;21;01mpd\u001b[39;00m\n\u001b[1;32m      2\u001b[0m \u001b[38;5;28;01mimport\u001b[39;00m\u001b[38;5;250m \u001b[39m\u001b[38;5;21;01mnumpy\u001b[39;00m\u001b[38;5;250m \u001b[39m\u001b[38;5;28;01mas\u001b[39;00m\u001b[38;5;250m \u001b[39m\u001b[38;5;21;01mnp\u001b[39;00m\n\u001b[0;32m----> 3\u001b[0m \u001b[38;5;28;01mimport\u001b[39;00m\u001b[38;5;250m \u001b[39m\u001b[38;5;21;01mmatplotlib\u001b[39;00m\u001b[38;5;21;01m.\u001b[39;00m\u001b[38;5;21;01mpyplot\u001b[39;00m\u001b[38;5;250m \u001b[39m\u001b[38;5;28;01mas\u001b[39;00m\u001b[38;5;250m \u001b[39m\u001b[38;5;21;01mplt\u001b[39;00m\n\u001b[1;32m      5\u001b[0m \u001b[38;5;66;03m# Creamos un dataset simulando un registro de conexiones de red\u001b[39;00m\n\u001b[1;32m      6\u001b[0m data \u001b[38;5;241m=\u001b[39m {\n\u001b[1;32m      7\u001b[0m     \u001b[38;5;124m'\u001b[39m\u001b[38;5;124mtimestamp\u001b[39m\u001b[38;5;124m'\u001b[39m: pd\u001b[38;5;241m.\u001b[39mdate_range(start\u001b[38;5;241m=\u001b[39m\u001b[38;5;124m'\u001b[39m\u001b[38;5;124m2023-01-01\u001b[39m\u001b[38;5;124m'\u001b[39m, periods\u001b[38;5;241m=\u001b[39m\u001b[38;5;241m10\u001b[39m, freq\u001b[38;5;241m=\u001b[39m\u001b[38;5;124m'\u001b[39m\u001b[38;5;124mH\u001b[39m\u001b[38;5;124m'\u001b[39m),\n\u001b[1;32m      8\u001b[0m     \u001b[38;5;124m'\u001b[39m\u001b[38;5;124mip_origen\u001b[39m\u001b[38;5;124m'\u001b[39m: [\u001b[38;5;124m'\u001b[39m\u001b[38;5;124m192.168.1.\u001b[39m\u001b[38;5;124m'\u001b[39m \u001b[38;5;241m+\u001b[39m \u001b[38;5;28mstr\u001b[39m(i) \u001b[38;5;28;01mfor\u001b[39;00m i \u001b[38;5;129;01min\u001b[39;00m \u001b[38;5;28mrange\u001b[39m(\u001b[38;5;241m1\u001b[39m, \u001b[38;5;241m11\u001b[39m)],\n\u001b[0;32m   (...)\u001b[0m\n\u001b[1;32m     13\u001b[0m     \u001b[38;5;124m'\u001b[39m\u001b[38;5;124mexito_conexion\u001b[39m\u001b[38;5;124m'\u001b[39m: [\u001b[38;5;28;01mTrue\u001b[39;00m, \u001b[38;5;28;01mTrue\u001b[39;00m, \u001b[38;5;28;01mFalse\u001b[39;00m, \u001b[38;5;28;01mTrue\u001b[39;00m, \u001b[38;5;28;01mTrue\u001b[39;00m, \u001b[38;5;28;01mTrue\u001b[39;00m, \u001b[38;5;28;01mFalse\u001b[39;00m, \u001b[38;5;28;01mFalse\u001b[39;00m, \u001b[38;5;28;01mTrue\u001b[39;00m, \u001b[38;5;28;01mTrue\u001b[39;00m]\n\u001b[1;32m     14\u001b[0m }\n",
      "File \u001b[0;32m/opt/conda/envs/entorno_conda/lib/python3.9/site-packages/matplotlib/__init__.py:263\u001b[0m\n\u001b[1;32m    258\u001b[0m         \u001b[38;5;28;01mif\u001b[39;00m parse_version(module\u001b[38;5;241m.\u001b[39m__version__) \u001b[38;5;241m<\u001b[39m parse_version(minver):\n\u001b[1;32m    259\u001b[0m             \u001b[38;5;28;01mraise\u001b[39;00m \u001b[38;5;167;01mImportError\u001b[39;00m(\u001b[38;5;124mf\u001b[39m\u001b[38;5;124m\"\u001b[39m\u001b[38;5;124mMatplotlib requires \u001b[39m\u001b[38;5;132;01m{\u001b[39;00mmodname\u001b[38;5;132;01m}\u001b[39;00m\u001b[38;5;124m>=\u001b[39m\u001b[38;5;132;01m{\u001b[39;00mminver\u001b[38;5;132;01m}\u001b[39;00m\u001b[38;5;124m; \u001b[39m\u001b[38;5;124m\"\u001b[39m\n\u001b[1;32m    260\u001b[0m                               \u001b[38;5;124mf\u001b[39m\u001b[38;5;124m\"\u001b[39m\u001b[38;5;124myou have \u001b[39m\u001b[38;5;132;01m{\u001b[39;00mmodule\u001b[38;5;241m.\u001b[39m__version__\u001b[38;5;132;01m}\u001b[39;00m\u001b[38;5;124m\"\u001b[39m)\n\u001b[0;32m--> 263\u001b[0m \u001b[43m_check_versions\u001b[49m\u001b[43m(\u001b[49m\u001b[43m)\u001b[49m\n\u001b[1;32m    266\u001b[0m \u001b[38;5;66;03m# The decorator ensures this always returns the same handler (and it is only\u001b[39;00m\n\u001b[1;32m    267\u001b[0m \u001b[38;5;66;03m# attached once).\u001b[39;00m\n\u001b[1;32m    268\u001b[0m \u001b[38;5;129m@functools\u001b[39m\u001b[38;5;241m.\u001b[39mcache\n\u001b[1;32m    269\u001b[0m \u001b[38;5;28;01mdef\u001b[39;00m\u001b[38;5;250m \u001b[39m\u001b[38;5;21m_ensure_handler\u001b[39m():\n",
      "File \u001b[0;32m/opt/conda/envs/entorno_conda/lib/python3.9/site-packages/matplotlib/__init__.py:259\u001b[0m, in \u001b[0;36m_check_versions\u001b[0;34m()\u001b[0m\n\u001b[1;32m    257\u001b[0m module \u001b[38;5;241m=\u001b[39m importlib\u001b[38;5;241m.\u001b[39mimport_module(modname)\n\u001b[1;32m    258\u001b[0m \u001b[38;5;28;01mif\u001b[39;00m parse_version(module\u001b[38;5;241m.\u001b[39m__version__) \u001b[38;5;241m<\u001b[39m parse_version(minver):\n\u001b[0;32m--> 259\u001b[0m     \u001b[38;5;28;01mraise\u001b[39;00m \u001b[38;5;167;01mImportError\u001b[39;00m(\u001b[38;5;124mf\u001b[39m\u001b[38;5;124m\"\u001b[39m\u001b[38;5;124mMatplotlib requires \u001b[39m\u001b[38;5;132;01m{\u001b[39;00mmodname\u001b[38;5;132;01m}\u001b[39;00m\u001b[38;5;124m>=\u001b[39m\u001b[38;5;132;01m{\u001b[39;00mminver\u001b[38;5;132;01m}\u001b[39;00m\u001b[38;5;124m; \u001b[39m\u001b[38;5;124m\"\u001b[39m\n\u001b[1;32m    260\u001b[0m                       \u001b[38;5;124mf\u001b[39m\u001b[38;5;124m\"\u001b[39m\u001b[38;5;124myou have \u001b[39m\u001b[38;5;132;01m{\u001b[39;00mmodule\u001b[38;5;241m.\u001b[39m__version__\u001b[38;5;132;01m}\u001b[39;00m\u001b[38;5;124m\"\u001b[39m)\n",
      "\u001b[0;31mImportError\u001b[0m: Matplotlib requires numpy>=1.23; you have 1.21.0"
     ]
    }
   ],
   "source": [
    "import pandas as pd\n",
    "import numpy as np\n",
    "import matplotlib.pyplot as plt\n",
    "\n",
    "# Creamos un dataset simulando un registro de conexiones de red\n",
    "data = {\n",
    "    'timestamp': pd.date_range(start='2023-01-01', periods=10, freq='H'),\n",
    "    'ip_origen': ['192.168.1.' + str(i) for i in range(1, 11)],\n",
    "    'ip_destino': ['10.0.0.' + str(i % 3 + 1) for i in range(10)],\n",
    "    'puerto': [80, 443, 22, 3389, 8080, 80, 443, 22, 8080, 3389],\n",
    "    'protocolo': ['HTTP', 'HTTPS', 'SSH', 'RDP', 'HTTP', 'HTTP', 'HTTPS', 'SSH', 'HTTP', 'RDP'],\n",
    "    'bytes_enviados': np.random.randint(100, 10000, 10),\n",
    "    'exito_conexion': [True, True, False, True, True, True, False, False, True, True]\n",
    "}\n",
    "\n",
    "# Creamos el DataFrame\n",
    "df = pd.DataFrame(data)\n",
    "\n",
    "print(\"1. Explorando el DataFrame:\")\n",
    "print(df.head())\n",
    "print(\"\\nInformación del DataFrame:\")\n",
    "print(df.info())\n",
    "print(\"\\nEstadísticas descriptivas:\")\n",
    "print(df.describe())\n",
    "\n"
   ]
  },
  {
   "cell_type": "markdown",
   "metadata": {},
   "source": [
    "ERROR por temas de librerías que se habían eliminado por error."
   ]
  },
  {
   "cell_type": "code",
   "execution_count": 1,
   "metadata": {},
   "outputs": [
    {
     "name": "stdout",
     "output_type": "stream",
     "text": [
      "1. Explorando el DataFrame:\n",
      "            timestamp    ip_origen ip_destino  puerto protocolo  \\\n",
      "0 2023-01-01 00:00:00  192.168.1.1   10.0.0.1      80      HTTP   \n",
      "1 2023-01-01 01:00:00  192.168.1.2   10.0.0.2     443     HTTPS   \n",
      "2 2023-01-01 02:00:00  192.168.1.3   10.0.0.3      22       SSH   \n",
      "3 2023-01-01 03:00:00  192.168.1.4   10.0.0.1    3389       RDP   \n",
      "4 2023-01-01 04:00:00  192.168.1.5   10.0.0.2    8080      HTTP   \n",
      "\n",
      "   bytes_enviados  exito_conexion  \n",
      "0            3050            True  \n",
      "1            3139            True  \n",
      "2            7787           False  \n",
      "3             428            True  \n",
      "4            6911            True  \n",
      "\n",
      "Información del DataFrame:\n",
      "<class 'pandas.core.frame.DataFrame'>\n",
      "RangeIndex: 10 entries, 0 to 9\n",
      "Data columns (total 7 columns):\n",
      " #   Column          Non-Null Count  Dtype         \n",
      "---  ------          --------------  -----         \n",
      " 0   timestamp       10 non-null     datetime64[ns]\n",
      " 1   ip_origen       10 non-null     object        \n",
      " 2   ip_destino      10 non-null     object        \n",
      " 3   puerto          10 non-null     int64         \n",
      " 4   protocolo       10 non-null     object        \n",
      " 5   bytes_enviados  10 non-null     int64         \n",
      " 6   exito_conexion  10 non-null     bool          \n",
      "dtypes: bool(1), datetime64[ns](1), int64(2), object(3)\n",
      "memory usage: 618.0+ bytes\n",
      "None\n",
      "\n",
      "Estadísticas descriptivas:\n",
      "                 timestamp       puerto  bytes_enviados\n",
      "count                   10    10.000000       10.000000\n",
      "mean   2023-01-01 04:30:00  2402.800000     4639.200000\n",
      "min    2023-01-01 00:00:00    22.000000      428.000000\n",
      "25%    2023-01-01 02:15:00    80.000000     2016.500000\n",
      "50%    2023-01-01 04:30:00   443.000000     3094.500000\n",
      "75%    2023-01-01 06:45:00  3389.000000     7568.000000\n",
      "max    2023-01-01 09:00:00  8080.000000     9899.000000\n",
      "std                    NaN  3269.645404     3429.302482\n"
     ]
    },
    {
     "name": "stderr",
     "output_type": "stream",
     "text": [
      "/tmp/ipykernel_15200/185713275.py:7: FutureWarning: 'H' is deprecated and will be removed in a future version, please use 'h' instead.\n",
      "  'timestamp': pd.date_range(start='2023-01-01', periods=10, freq='H'),\n"
     ]
    }
   ],
   "source": [
    "import pandas as pd\n",
    "import numpy as np\n",
    "import matplotlib.pyplot as plt\n",
    "\n",
    "# Creamos un dataset simulando un registro de conexiones de red\n",
    "data = {\n",
    "    'timestamp': pd.date_range(start='2023-01-01', periods=10, freq='H'),\n",
    "    'ip_origen': ['192.168.1.' + str(i) for i in range(1, 11)],\n",
    "    'ip_destino': ['10.0.0.' + str(i % 3 + 1) for i in range(10)],\n",
    "    'puerto': [80, 443, 22, 3389, 8080, 80, 443, 22, 8080, 3389],\n",
    "    'protocolo': ['HTTP', 'HTTPS', 'SSH', 'RDP', 'HTTP', 'HTTP', 'HTTPS', 'SSH', 'HTTP', 'RDP'],\n",
    "    'bytes_enviados': np.random.randint(100, 10000, 10),\n",
    "    'exito_conexion': [True, True, False, True, True, True, False, False, True, True]\n",
    "}\n",
    "\n",
    "# Creamos el DataFrame\n",
    "df = pd.DataFrame(data)\n",
    "\n",
    "print(\"1. Explorando el DataFrame:\")\n",
    "print(df.head())\n",
    "print(\"\\nInformación del DataFrame:\")\n",
    "print(df.info())\n",
    "print(\"\\nEstadísticas descriptivas:\")\n",
    "print(df.describe())"
   ]
  },
  {
   "cell_type": "markdown",
   "metadata": {},
   "source": [
    "Dado que el error persistía se decidió dar clic en restart y finalmente ejecutar el código de nuevo, es así que dio OK"
   ]
  },
  {
   "cell_type": "code",
   "execution_count": 2,
   "metadata": {},
   "outputs": [
    {
     "name": "stdout",
     "output_type": "stream",
     "text": [
      "\n",
      "2. Selección de datos:\n",
      "\n",
      "Selección de una columna (Serie):\n",
      "0     HTTP\n",
      "1    HTTPS\n",
      "2      SSH\n",
      "3      RDP\n",
      "4     HTTP\n",
      "5     HTTP\n",
      "6    HTTPS\n",
      "7      SSH\n",
      "8     HTTP\n",
      "9      RDP\n",
      "Name: protocolo, dtype: object\n",
      "\n",
      "Selección de múltiples columnas (DataFrame):\n",
      "      ip_origen protocolo  puerto\n",
      "0   192.168.1.1      HTTP      80\n",
      "1   192.168.1.2     HTTPS     443\n",
      "2   192.168.1.3       SSH      22\n",
      "3   192.168.1.4       RDP    3389\n",
      "4   192.168.1.5      HTTP    8080\n",
      "5   192.168.1.6      HTTP      80\n",
      "6   192.168.1.7     HTTPS     443\n",
      "7   192.168.1.8       SSH      22\n",
      "8   192.168.1.9      HTTP    8080\n",
      "9  192.168.1.10       RDP    3389\n",
      "\n",
      "Selección por índice con iloc (primeras 2 filas, columnas 0 y 2):\n",
      "            timestamp ip_destino\n",
      "0 2023-01-01 00:00:00   10.0.0.1\n",
      "1 2023-01-01 01:00:00   10.0.0.2\n",
      "\n",
      "Selección por nombre con loc (filas donde protocolo es 'HTTP'):\n",
      "            timestamp    ip_origen  puerto\n",
      "0 2023-01-01 00:00:00  192.168.1.1      80\n",
      "4 2023-01-01 04:00:00  192.168.1.5    8080\n",
      "5 2023-01-01 05:00:00  192.168.1.6      80\n",
      "8 2023-01-01 08:00:00  192.168.1.9    8080\n"
     ]
    }
   ],
   "source": [
    "# 2. Selección de datos\n",
    "print(\"\\n2. Selección de datos:\")\n",
    "# Seleccionar una columna (devuelve una Serie)\n",
    "print(\"\\nSelección de una columna (Serie):\")\n",
    "print(df['protocolo'])\n",
    "\n",
    "# Seleccionar múltiples columnas (devuelve un DataFrame)\n",
    "print(\"\\nSelección de múltiples columnas (DataFrame):\")\n",
    "print(df[['ip_origen', 'protocolo', 'puerto']])\n",
    "\n",
    "# Selección por índice con iloc\n",
    "print(\"\\nSelección por índice con iloc (primeras 2 filas, columnas 0 y 2):\")\n",
    "print(df.iloc[0:2, [0, 2]])\n",
    "\n",
    "# Selección por nombre con loc\n",
    "print(\"\\nSelección por nombre con loc (filas donde protocolo es 'HTTP'):\")\n",
    "print(df.loc[df['protocolo'] == 'HTTP', ['timestamp', 'ip_origen', 'puerto']])"
   ]
  },
  {
   "cell_type": "code",
   "execution_count": 3,
   "metadata": {},
   "outputs": [
    {
     "name": "stdout",
     "output_type": "stream",
     "text": [
      "\n",
      "3. Filtrado de datos:\n",
      "\n",
      "Conexiones exitosas:\n",
      "            timestamp     ip_origen protocolo\n",
      "0 2023-01-01 00:00:00   192.168.1.1      HTTP\n",
      "1 2023-01-01 01:00:00   192.168.1.2     HTTPS\n",
      "3 2023-01-01 03:00:00   192.168.1.4       RDP\n",
      "4 2023-01-01 04:00:00   192.168.1.5      HTTP\n",
      "5 2023-01-01 05:00:00   192.168.1.6      HTTP\n",
      "8 2023-01-01 08:00:00   192.168.1.9      HTTP\n",
      "9 2023-01-01 09:00:00  192.168.1.10       RDP\n",
      "\n",
      "Conexiones HTTP en puerto 80:\n",
      "            timestamp    ip_origen ip_destino  puerto protocolo  \\\n",
      "0 2023-01-01 00:00:00  192.168.1.1   10.0.0.1      80      HTTP   \n",
      "5 2023-01-01 05:00:00  192.168.1.6   10.0.0.3      80      HTTP   \n",
      "\n",
      "   bytes_enviados  exito_conexion  \n",
      "0            3050            True  \n",
      "5            9899            True  \n"
     ]
    }
   ],
   "source": [
    "# 3. Filtrado de datos\n",
    "print(\"\\n3. Filtrado de datos:\")\n",
    "# Filtrar conexiones exitosas\n",
    "conexiones_exitosas = df[df['exito_conexion'] == True]\n",
    "print(\"\\nConexiones exitosas:\")\n",
    "print(conexiones_exitosas[['timestamp', 'ip_origen', 'protocolo']])\n",
    "\n",
    "# Filtrado múltiple (conexiones HTTP en puerto 80)\n",
    "http_port80 = df[(df['protocolo'] == 'HTTP') & (df['puerto'] == 80)]\n",
    "print(\"\\nConexiones HTTP en puerto 80:\")\n",
    "print(http_port80)\n",
    "\n"
   ]
  },
  {
   "cell_type": "code",
   "execution_count": 4,
   "metadata": {},
   "outputs": [
    {
     "name": "stdout",
     "output_type": "stream",
     "text": [
      "\n",
      "4. Transformación de datos:\n",
      "\n",
      "DataFrame con nueva columna 'hora':\n",
      "            timestamp  hora protocolo\n",
      "0 2023-01-01 00:00:00     0      HTTP\n",
      "1 2023-01-01 01:00:00     1     HTTPS\n",
      "2 2023-01-01 02:00:00     2       SSH\n",
      "3 2023-01-01 03:00:00     3       RDP\n",
      "4 2023-01-01 04:00:00     4      HTTP\n",
      "5 2023-01-01 05:00:00     5      HTTP\n",
      "6 2023-01-01 06:00:00     6     HTTPS\n",
      "7 2023-01-01 07:00:00     7       SSH\n",
      "8 2023-01-01 08:00:00     8      HTTP\n",
      "9 2023-01-01 09:00:00     9       RDP\n",
      "\n",
      "DataFrame con clasificación de servicios:\n",
      "  protocolo tipo_servicio\n",
      "0      HTTP           WEB\n",
      "1     HTTPS           WEB\n",
      "2       SSH         ADMIN\n",
      "3       RDP          OTRO\n",
      "4      HTTP           WEB\n",
      "5      HTTP           WEB\n",
      "6     HTTPS           WEB\n",
      "7       SSH         ADMIN\n",
      "8      HTTP           WEB\n",
      "9       RDP          OTRO\n"
     ]
    }
   ],
   "source": [
    "# 4. Transformación de datos\n",
    "print(\"\\n4. Transformación de datos:\")\n",
    "# Añadir una nueva columna\n",
    "df['hora'] = df['timestamp'].dt.hour\n",
    "print(\"\\nDataFrame con nueva columna 'hora':\")\n",
    "print(df[['timestamp', 'hora', 'protocolo']])\n",
    "\n",
    "# Aplicar una función con apply\n",
    "def clasificar_protocolo(protocolo):\n",
    "    if protocolo in ['HTTP', 'HTTPS']:\n",
    "        return 'WEB'\n",
    "    elif protocolo == 'SSH':\n",
    "        return 'ADMIN'\n",
    "    else:\n",
    "        return 'OTRO'\n",
    "\n",
    "df['tipo_servicio'] = df['protocolo'].apply(clasificar_protocolo)\n",
    "print(\"\\nDataFrame con clasificación de servicios:\")\n",
    "print(df[['protocolo', 'tipo_servicio']])\n",
    "\n"
   ]
  },
  {
   "cell_type": "code",
   "execution_count": 5,
   "metadata": {},
   "outputs": [
    {
     "name": "stdout",
     "output_type": "stream",
     "text": [
      "\n",
      "5. Agregación de datos:\n",
      "\n",
      "Conteo de conexiones por protocolo:\n",
      "protocolo\n",
      "HTTP     4\n",
      "HTTPS    2\n",
      "RDP      2\n",
      "SSH      2\n",
      "dtype: int64\n",
      "\n",
      "Estadísticas de bytes enviados por protocolo:\n",
      "           count    mean   min   max\n",
      "protocolo                           \n",
      "HTTP           4  5589.5  2498  9899\n",
      "HTTPS          2  6115.0  3139  9091\n",
      "RDP            2  1142.0   428  1856\n",
      "SSH            2  4760.0  1733  7787\n"
     ]
    }
   ],
   "source": [
    "# 5. Agregación de datos\n",
    "print(\"\\n5. Agregación de datos:\")\n",
    "# Agrupar por protocolo y contar conexiones\n",
    "conteo_por_protocolo = df.groupby('protocolo').size()\n",
    "print(\"\\nConteo de conexiones por protocolo:\")\n",
    "print(conteo_por_protocolo)\n",
    "\n",
    "# Estadísticas por protocolo\n",
    "stats_por_protocolo = df.groupby('protocolo')['bytes_enviados'].agg(['count', 'mean', 'min', 'max'])\n",
    "print(\"\\nEstadísticas de bytes enviados por protocolo:\")\n",
    "print(stats_por_protocolo)"
   ]
  },
  {
   "cell_type": "code",
   "execution_count": 6,
   "metadata": {},
   "outputs": [
    {
     "name": "stdout",
     "output_type": "stream",
     "text": [
      "\n",
      "6. Pivotado de datos:\n",
      "\n",
      "Tabla pivote de bytes enviados por tipo de servicio y éxito de conexión:\n",
      "exito_conexion   False   True \n",
      "tipo_servicio                 \n",
      "ADMIN           4760.0     NaN\n",
      "OTRO               NaN  1142.0\n",
      "WEB             9091.0  5099.4\n"
     ]
    }
   ],
   "source": [
    "# 6. Pivotado de datos\n",
    "print(\"\\n6. Pivotado de datos:\")\n",
    "# Tabla pivote de bytes enviados por tipo de servicio y protocolo\n",
    "pivot = pd.pivot_table(df, \n",
    "                      values='bytes_enviados', \n",
    "                      index='tipo_servicio', \n",
    "                      columns='exito_conexion', \n",
    "                      aggfunc='mean')\n",
    "print(\"\\nTabla pivote de bytes enviados por tipo de servicio y éxito de conexión:\")\n",
    "print(pivot)"
   ]
  },
  {
   "cell_type": "code",
   "execution_count": 7,
   "metadata": {},
   "outputs": [
    {
     "name": "stdout",
     "output_type": "stream",
     "text": [
      "\n",
      "7. Detección de anomalías simples:\n",
      "\n",
      "Posibles conexiones anómalas por volumen de datos transferidos:\n",
      "            timestamp    ip_origen protocolo  bytes_enviados   z_score\n",
      "5 2023-01-01 05:00:00  192.168.1.6      HTTP            9899  1.533781\n"
     ]
    }
   ],
   "source": [
    "# 7. Detección de anomalías simples\n",
    "print(\"\\n7. Detección de anomalías simples:\")\n",
    "# Calcular el Z-score para identificar valores atípicos en bytes_enviados\n",
    "df['z_score'] = (df['bytes_enviados'] - df['bytes_enviados'].mean()) / df['bytes_enviados'].std()\n",
    "anomalias = df[abs(df['z_score']) > 1.5]  # Consideramos como anómalos Z-scores > 1.5\n",
    "print(\"\\nPosibles conexiones anómalas por volumen de datos transferidos:\")\n",
    "print(anomalias[['timestamp', 'ip_origen', 'protocolo', 'bytes_enviados', 'z_score']])"
   ]
  },
  {
   "cell_type": "markdown",
   "metadata": {},
   "source": [
    "## Finalmente desde el paso #2 del código se ejecutaron los comandos sin problemas."
   ]
  }
 ],
 "metadata": {
  "kernelspec": {
   "display_name": "entorno_conda",
   "language": "python",
   "name": "python3"
  },
  "language_info": {
   "codemirror_mode": {
    "name": "ipython",
    "version": 3
   },
   "file_extension": ".py",
   "mimetype": "text/x-python",
   "name": "python",
   "nbconvert_exporter": "python",
   "pygments_lexer": "ipython3",
   "version": "3.9.18"
  }
 },
 "nbformat": 4,
 "nbformat_minor": 2
}
